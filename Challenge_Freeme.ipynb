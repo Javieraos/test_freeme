{
 "cells": [
  {
   "cell_type": "markdown",
   "source": [
    "### Importamos librerías necesarias"
   ],
   "metadata": {
    "collapsed": false
   }
  },
  {
   "cell_type": "code",
   "execution_count": 1,
   "outputs": [],
   "source": [
    "import pandas as pd\n",
    "import numpy as np\n",
    "import re"
   ],
   "metadata": {
    "collapsed": false
   }
  },
  {
   "cell_type": "markdown",
   "source": [
    "### Guardamos las cadenas de texto"
   ],
   "metadata": {
    "collapsed": false
   }
  },
  {
   "cell_type": "code",
   "execution_count": 2,
   "outputs": [],
   "source": [
    "text1 = r\"ARIAS CASTELLANO, DILIANA JOSE\\nTRANSCANTÁBRICO, 11 - PORTAL\\nCL DEL T\\nL\\n8 1-3\\n28770 COLMENAR VIEJO\\nCODIGO: 264459\\nNIF : Y7729904D\\nFECHA\\nFACTURA\\n31/08/22\\n31/08/22\\nCODIGO SAP: 000000050785779\\nFACTURA\\nNO.\\n0224095856\\n0224095857\\nFECHA DE VENCIMIENTO: 07/09/22\\nSEPA Direct Debit\\nDIVISAS\\nRESUMEN FACTURACION\\nFECHA : 31/08/22\\nNUMERO: 9643385430\\nEUR\\nEUR\\nTOTAL\\nDIVISAS\\nB2M País de suministro: España\\nB2Mobility GmbH\\nWITTENER STRASSE 45\\nTEL: 910 10 20 30\\nFAX: 902 108 050\\nNIF: ESN2765289J\\nCONTACTO EN BP: tarjetasprofesionales@bp.com\\nTOTAL\\nEUR\\nB2Mobility GmbH Inscrita en el R.M. de Bochum (Alemania) N.° de sociedad HRB 16999\\nN.I.F.: N2765289J - NIF Intracomunitario ESN2765289J\\nCR\\nTOTAL\\nEUR\\nPag:\\n96,11\\n433,74\\n529,85\\nbp\"\n",
    "text2 = r\"19:14\\nTotal\\nDORTA ALVAREZ LUIS SEBASTIAN\\nOtro importe x 1\\nOtro importe x 1\\nEfectivo\\nsquareup.com\\nCuéntale a DORTA ALVAREZ LUIS\\nSEBASTIAN cómo fue tu experiencia\\n132,65 €\\n|||\\nFactura simplificada 5A12AF39-13\\nO\\n|| 15% |\\n99\\nГ\\nC\\n92,00 €\\n40,65 €\\n6/10/2022, 19:13\\nN.° rz76\\n132,65 €\\n|||\"\n",
    "text3 = r\"RESUMEN DEL PERIODO\\nDe 08/01/22 a 08/14/22\\nG48581671\\nJosgreli Marin Colmenares\\nES5921002282470200428575\\n(1) Total facturas promociones y eventuales ajustes de Courier a Glovo\\n(2) Total factura de Courier a Partner por servicio de delivery\\n(3) Total Tasa de envío facturado a usuarios finales\\n(4) Propinas recibidas de los usuarios finales\\n(5) Suma total de los puntos anteriores (1) + (2) + (3) + (4)\\n(6) Total efectivo retirado al final del periodo\\n(7) Total efectivo retirado diariamente\\n(8) Total efectivo recibido (6) + (7)\\n(9) Ajuste de facturas anteriores\\n(10) Ajustes de productos\\n(11) Otros\\n(12) Suma total de los ajustes anteriores (9) + (10) + (11)\\n(13) Cuota por el uso de la plataforma\\n(14) Importe líquido recibido por el courier (5) + (8) + (12) + (13)\\n0.00 €\\n557.73 €\\n335.65 €\\n17.00 €\\n910.38 €\\n0.00 €\\n0.00 €\\n0.00 €\\n0.00 €\\n0.00 €\\n0.00 €\\n0.00 €\\n-3.03 €\\n907.35 €\""
   ],
   "metadata": {
    "collapsed": false
   }
  },
  {
   "cell_type": "markdown",
   "source": [
    "### Creamos la función para procesar las cadenas de texto"
   ],
   "metadata": {
    "collapsed": false
   }
  },
  {
   "cell_type": "code",
   "execution_count": 3,
   "outputs": [],
   "source": [
    "def group_string (string):\n",
    "\n",
    "    # Patrones para extraer la fecha y el importe total\n",
    "    date_pattern = r\"\\d{1,2}[-/]\\d{1,2}[-/]\\d{2,4}\"\n",
    "    total_pattern = r\"-?\\d{0,5}[.,]\\d+\"\n",
    "\n",
    "    # Buscamos la primera fecha que aprezca en el documento, suponiendo que la mayoría de facturas tendrán la fecha de emisión al principio\n",
    "    date = re.search(date_pattern, string)\n",
    "    date = date.group()\n",
    "\n",
    "    # Buscamos todos los importes\n",
    "    total = re.findall(total_pattern, string)\n",
    "\n",
    "    # Cambiamos las comas por puntos y convertimos a float\n",
    "    total = list(map(lambda item: item.replace(\",\",\".\"), total))\n",
    "    total = list(np.float_(total))\n",
    "\n",
    "    # Buscamos el importe máximo y le restamos todos los importes negativos\n",
    "    max = np.max(total)\n",
    "    negative = 0\n",
    "\n",
    "    for number in total:\n",
    "        if number < 0:\n",
    "            negative = negative + number\n",
    "\n",
    "    total = max + negative\n",
    "\n",
    "    # Agrupamos todo en un dataframe\n",
    "    group = pd.DataFrame({'Date': [date], 'Total': [total]})\n",
    "    return group"
   ],
   "metadata": {
    "collapsed": false
   }
  },
  {
   "cell_type": "markdown",
   "source": [
    "### Procesamos las cadenas de texto con la función"
   ],
   "metadata": {
    "collapsed": false
   }
  },
  {
   "cell_type": "code",
   "execution_count": 4,
   "outputs": [
    {
     "data": {
      "text/plain": "       Date   Total\n0  31/08/22  529.85",
      "text/html": "<div>\n<style scoped>\n    .dataframe tbody tr th:only-of-type {\n        vertical-align: middle;\n    }\n\n    .dataframe tbody tr th {\n        vertical-align: top;\n    }\n\n    .dataframe thead th {\n        text-align: right;\n    }\n</style>\n<table border=\"1\" class=\"dataframe\">\n  <thead>\n    <tr style=\"text-align: right;\">\n      <th></th>\n      <th>Date</th>\n      <th>Total</th>\n    </tr>\n  </thead>\n  <tbody>\n    <tr>\n      <th>0</th>\n      <td>31/08/22</td>\n      <td>529.85</td>\n    </tr>\n  </tbody>\n</table>\n</div>"
     },
     "execution_count": 4,
     "metadata": {},
     "output_type": "execute_result"
    }
   ],
   "source": [
    "group_string(text1)"
   ],
   "metadata": {
    "collapsed": false
   }
  },
  {
   "cell_type": "code",
   "execution_count": 5,
   "outputs": [
    {
     "data": {
      "text/plain": "        Date   Total\n0  6/10/2022  132.65",
      "text/html": "<div>\n<style scoped>\n    .dataframe tbody tr th:only-of-type {\n        vertical-align: middle;\n    }\n\n    .dataframe tbody tr th {\n        vertical-align: top;\n    }\n\n    .dataframe thead th {\n        text-align: right;\n    }\n</style>\n<table border=\"1\" class=\"dataframe\">\n  <thead>\n    <tr style=\"text-align: right;\">\n      <th></th>\n      <th>Date</th>\n      <th>Total</th>\n    </tr>\n  </thead>\n  <tbody>\n    <tr>\n      <th>0</th>\n      <td>6/10/2022</td>\n      <td>132.65</td>\n    </tr>\n  </tbody>\n</table>\n</div>"
     },
     "execution_count": 5,
     "metadata": {},
     "output_type": "execute_result"
    }
   ],
   "source": [
    "group_string(text2)"
   ],
   "metadata": {
    "collapsed": false
   }
  },
  {
   "cell_type": "code",
   "execution_count": 6,
   "outputs": [
    {
     "data": {
      "text/plain": "       Date   Total\n0  08/01/22  907.35",
      "text/html": "<div>\n<style scoped>\n    .dataframe tbody tr th:only-of-type {\n        vertical-align: middle;\n    }\n\n    .dataframe tbody tr th {\n        vertical-align: top;\n    }\n\n    .dataframe thead th {\n        text-align: right;\n    }\n</style>\n<table border=\"1\" class=\"dataframe\">\n  <thead>\n    <tr style=\"text-align: right;\">\n      <th></th>\n      <th>Date</th>\n      <th>Total</th>\n    </tr>\n  </thead>\n  <tbody>\n    <tr>\n      <th>0</th>\n      <td>08/01/22</td>\n      <td>907.35</td>\n    </tr>\n  </tbody>\n</table>\n</div>"
     },
     "execution_count": 6,
     "metadata": {},
     "output_type": "execute_result"
    }
   ],
   "source": [
    "group_string(text3)"
   ],
   "metadata": {
    "collapsed": false
   }
  }
 ],
 "metadata": {
  "kernelspec": {
   "display_name": "Python 3",
   "language": "python",
   "name": "python3"
  },
  "language_info": {
   "codemirror_mode": {
    "name": "ipython",
    "version": 2
   },
   "file_extension": ".py",
   "mimetype": "text/x-python",
   "name": "python",
   "nbconvert_exporter": "python",
   "pygments_lexer": "ipython2",
   "version": "2.7.6"
  }
 },
 "nbformat": 4,
 "nbformat_minor": 0
}
